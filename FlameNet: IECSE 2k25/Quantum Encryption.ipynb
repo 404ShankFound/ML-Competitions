{
 "cells": [
  {
   "cell_type": "code",
   "execution_count": 1,
   "id": "07692f22",
   "metadata": {
    "_cell_guid": "b1076dfc-b9ad-4769-8c92-a6c4dae69d19",
    "_uuid": "8f2839f25d086af736a60e9eeb907d3b93b6e0e5",
    "execution": {
     "iopub.execute_input": "2025-06-29T17:01:43.102472Z",
     "iopub.status.busy": "2025-06-29T17:01:43.102135Z",
     "iopub.status.idle": "2025-06-29T17:01:44.937306Z",
     "shell.execute_reply": "2025-06-29T17:01:44.936278Z"
    },
    "papermill": {
     "duration": 1.843115,
     "end_time": "2025-06-29T17:01:44.938865",
     "exception": false,
     "start_time": "2025-06-29T17:01:43.095750",
     "status": "completed"
    },
    "tags": []
   },
   "outputs": [
    {
     "name": "stdout",
     "output_type": "stream",
     "text": [
      "/kaggle/input/flame-net-iecse/dataset/sample_submission.csv\n",
      "/kaggle/input/flame-net-iecse/dataset/train.csv\n",
      "/kaggle/input/flame-net-iecse/dataset/test.csv\n"
     ]
    }
   ],
   "source": [
    "# This Python 3 environment comes with many helpful analytics libraries installed\n",
    "# It is defined by the kaggle/python Docker image: https://github.com/kaggle/docker-python\n",
    "# For example, here's several helpful packages to load\n",
    "\n",
    "import numpy as np # linear algebra\n",
    "import pandas as pd # data processing, CSV file I/O (e.g. pd.read_csv)\n",
    "\n",
    "# Input data files are available in the read-only \"../input/\" directory\n",
    "# For example, running this (by clicking run or pressing Shift+Enter) will list all files under the input directory\n",
    "\n",
    "import os\n",
    "for dirname, _, filenames in os.walk('/kaggle/input'):\n",
    "    for filename in filenames:\n",
    "        print(os.path.join(dirname, filename))\n",
    "\n",
    "# You can write up to 20GB to the current directory (/kaggle/working/) that gets preserved as output when you create a version using \"Save & Run All\" \n",
    "# You can also write temporary files to /kaggle/temp/, but they won't be saved outside of the current session"
   ]
  },
  {
   "cell_type": "code",
   "execution_count": 2,
   "id": "02528a42",
   "metadata": {
    "execution": {
     "iopub.execute_input": "2025-06-29T17:01:44.950064Z",
     "iopub.status.busy": "2025-06-29T17:01:44.949664Z",
     "iopub.status.idle": "2025-06-29T17:01:45.020836Z",
     "shell.execute_reply": "2025-06-29T17:01:45.020104Z"
    },
    "papermill": {
     "duration": 0.078591,
     "end_time": "2025-06-29T17:01:45.022390",
     "exception": false,
     "start_time": "2025-06-29T17:01:44.943799",
     "status": "completed"
    },
    "tags": []
   },
   "outputs": [],
   "source": [
    "df=pd.read_csv(\"/kaggle/input/flame-net-iecse/dataset/train.csv\")"
   ]
  },
  {
   "cell_type": "code",
   "execution_count": 3,
   "id": "4df0a39a",
   "metadata": {
    "execution": {
     "iopub.execute_input": "2025-06-29T17:01:45.032922Z",
     "iopub.status.busy": "2025-06-29T17:01:45.032135Z",
     "iopub.status.idle": "2025-06-29T17:01:45.072220Z",
     "shell.execute_reply": "2025-06-29T17:01:45.071311Z"
    },
    "papermill": {
     "duration": 0.046709,
     "end_time": "2025-06-29T17:01:45.073697",
     "exception": false,
     "start_time": "2025-06-29T17:01:45.026988",
     "status": "completed"
    },
    "tags": []
   },
   "outputs": [
    {
     "data": {
      "text/html": [
       "<div>\n",
       "<style scoped>\n",
       "    .dataframe tbody tr th:only-of-type {\n",
       "        vertical-align: middle;\n",
       "    }\n",
       "\n",
       "    .dataframe tbody tr th {\n",
       "        vertical-align: top;\n",
       "    }\n",
       "\n",
       "    .dataframe thead th {\n",
       "        text-align: right;\n",
       "    }\n",
       "</style>\n",
       "<table border=\"1\" class=\"dataframe\">\n",
       "  <thead>\n",
       "    <tr style=\"text-align: right;\">\n",
       "      <th></th>\n",
       "      <th>ID</th>\n",
       "      <th>Key_Size</th>\n",
       "      <th>Protocol_Type</th>\n",
       "      <th>Key_Distribution</th>\n",
       "      <th>Enc_Latency</th>\n",
       "      <th>Dec_Latency</th>\n",
       "      <th>Throughput</th>\n",
       "      <th>Total_Latency</th>\n",
       "      <th>Packet_Loss</th>\n",
       "      <th>Bandwidth_Usage</th>\n",
       "      <th>...</th>\n",
       "      <th>Attack_Success_Exponential_Risk</th>\n",
       "      <th>Data_Volume_Quadratic_Load</th>\n",
       "      <th>Bandwidth_Saturation_Angle</th>\n",
       "      <th>Classification_Uncertainty_Score</th>\n",
       "      <th>Noise_Category</th>\n",
       "      <th>Temporal_Drift_Coefficient</th>\n",
       "      <th>Latency_Throughput_Efficiency</th>\n",
       "      <th>Resource_Load_Composite</th>\n",
       "      <th>Security_Exposure_Index</th>\n",
       "      <th>Key_Data_Complexity_Index</th>\n",
       "    </tr>\n",
       "  </thead>\n",
       "  <tbody>\n",
       "    <tr>\n",
       "      <th>0</th>\n",
       "      <td>1840</td>\n",
       "      <td>128</td>\n",
       "      <td>E91</td>\n",
       "      <td>Hybrid QKD</td>\n",
       "      <td>15.500997</td>\n",
       "      <td>98.461502</td>\n",
       "      <td>277.059417</td>\n",
       "      <td>40.818999</td>\n",
       "      <td>4.435718</td>\n",
       "      <td>74.193786</td>\n",
       "      <td>...</td>\n",
       "      <td>1.406791</td>\n",
       "      <td>543.946672</td>\n",
       "      <td>1.637679</td>\n",
       "      <td>0.815155</td>\n",
       "      <td>CAT_16</td>\n",
       "      <td>0.954955</td>\n",
       "      <td>356.422662</td>\n",
       "      <td>159.584486</td>\n",
       "      <td>0.432557</td>\n",
       "      <td>343.370798</td>\n",
       "    </tr>\n",
       "    <tr>\n",
       "      <th>1</th>\n",
       "      <td>2115</td>\n",
       "      <td>128</td>\n",
       "      <td>E91</td>\n",
       "      <td>Hybrid QKD</td>\n",
       "      <td>22.555883</td>\n",
       "      <td>114.590682</td>\n",
       "      <td>103.045897</td>\n",
       "      <td>7.431070</td>\n",
       "      <td>2.580950</td>\n",
       "      <td>70.379419</td>\n",
       "      <td>...</td>\n",
       "      <td>1.232716</td>\n",
       "      <td>639.997751</td>\n",
       "      <td>1.602666</td>\n",
       "      <td>2.666720</td>\n",
       "      <td>CAT_7</td>\n",
       "      <td>0.625626</td>\n",
       "      <td>7315.706134</td>\n",
       "      <td>71.611881</td>\n",
       "      <td>0.521429</td>\n",
       "      <td>299.164911</td>\n",
       "    </tr>\n",
       "    <tr>\n",
       "      <th>2</th>\n",
       "      <td>4437</td>\n",
       "      <td>256</td>\n",
       "      <td>SARG04</td>\n",
       "      <td>QKD</td>\n",
       "      <td>20.390290</td>\n",
       "      <td>107.956391</td>\n",
       "      <td>163.689296</td>\n",
       "      <td>1.319850</td>\n",
       "      <td>3.145148</td>\n",
       "      <td>92.687603</td>\n",
       "      <td>...</td>\n",
       "      <td>1.527624</td>\n",
       "      <td>544.287065</td>\n",
       "      <td>1.446971</td>\n",
       "      <td>0.000000</td>\n",
       "      <td>CAT_2</td>\n",
       "      <td>0.369369</td>\n",
       "      <td>3482.948104</td>\n",
       "      <td>81.888690</td>\n",
       "      <td>0.569636</td>\n",
       "      <td>46.818893</td>\n",
       "    </tr>\n",
       "  </tbody>\n",
       "</table>\n",
       "<p>3 rows × 47 columns</p>\n",
       "</div>"
      ],
      "text/plain": [
       "     ID  Key_Size Protocol_Type Key_Distribution  Enc_Latency  Dec_Latency  \\\n",
       "0  1840       128           E91       Hybrid QKD    15.500997    98.461502   \n",
       "1  2115       128           E91       Hybrid QKD    22.555883   114.590682   \n",
       "2  4437       256        SARG04              QKD    20.390290   107.956391   \n",
       "\n",
       "   Throughput  Total_Latency  Packet_Loss  Bandwidth_Usage  ...  \\\n",
       "0  277.059417      40.818999     4.435718        74.193786  ...   \n",
       "1  103.045897       7.431070     2.580950        70.379419  ...   \n",
       "2  163.689296       1.319850     3.145148        92.687603  ...   \n",
       "\n",
       "   Attack_Success_Exponential_Risk Data_Volume_Quadratic_Load  \\\n",
       "0                         1.406791                 543.946672   \n",
       "1                         1.232716                 639.997751   \n",
       "2                         1.527624                 544.287065   \n",
       "\n",
       "  Bandwidth_Saturation_Angle Classification_Uncertainty_Score  Noise_Category  \\\n",
       "0                   1.637679                         0.815155          CAT_16   \n",
       "1                   1.602666                         2.666720           CAT_7   \n",
       "2                   1.446971                         0.000000           CAT_2   \n",
       "\n",
       "   Temporal_Drift_Coefficient  Latency_Throughput_Efficiency  \\\n",
       "0                    0.954955                     356.422662   \n",
       "1                    0.625626                    7315.706134   \n",
       "2                    0.369369                    3482.948104   \n",
       "\n",
       "  Resource_Load_Composite  Security_Exposure_Index Key_Data_Complexity_Index  \n",
       "0              159.584486                 0.432557                343.370798  \n",
       "1               71.611881                 0.521429                299.164911  \n",
       "2               81.888690                 0.569636                 46.818893  \n",
       "\n",
       "[3 rows x 47 columns]"
      ]
     },
     "execution_count": 3,
     "metadata": {},
     "output_type": "execute_result"
    }
   ],
   "source": [
    "df.head(3)"
   ]
  },
  {
   "cell_type": "code",
   "execution_count": 4,
   "id": "e343a340",
   "metadata": {
    "execution": {
     "iopub.execute_input": "2025-06-29T17:01:45.084643Z",
     "iopub.status.busy": "2025-06-29T17:01:45.083774Z",
     "iopub.status.idle": "2025-06-29T17:01:45.115456Z",
     "shell.execute_reply": "2025-06-29T17:01:45.114633Z"
    },
    "papermill": {
     "duration": 0.038607,
     "end_time": "2025-06-29T17:01:45.117164",
     "exception": false,
     "start_time": "2025-06-29T17:01:45.078557",
     "status": "completed"
    },
    "tags": []
   },
   "outputs": [],
   "source": [
    "test_df = pd.read_csv(\"/kaggle/input/flame-net-iecse/dataset/test.csv\")"
   ]
  },
  {
   "cell_type": "code",
   "execution_count": 5,
   "id": "fad36e56",
   "metadata": {
    "execution": {
     "iopub.execute_input": "2025-06-29T17:01:45.129020Z",
     "iopub.status.busy": "2025-06-29T17:01:45.128115Z",
     "iopub.status.idle": "2025-06-29T17:01:45.146061Z",
     "shell.execute_reply": "2025-06-29T17:01:45.145344Z"
    },
    "papermill": {
     "duration": 0.025244,
     "end_time": "2025-06-29T17:01:45.147396",
     "exception": false,
     "start_time": "2025-06-29T17:01:45.122152",
     "status": "completed"
    },
    "tags": []
   },
   "outputs": [
    {
     "data": {
      "text/html": [
       "<div>\n",
       "<style scoped>\n",
       "    .dataframe tbody tr th:only-of-type {\n",
       "        vertical-align: middle;\n",
       "    }\n",
       "\n",
       "    .dataframe tbody tr th {\n",
       "        vertical-align: top;\n",
       "    }\n",
       "\n",
       "    .dataframe thead th {\n",
       "        text-align: right;\n",
       "    }\n",
       "</style>\n",
       "<table border=\"1\" class=\"dataframe\">\n",
       "  <thead>\n",
       "    <tr style=\"text-align: right;\">\n",
       "      <th></th>\n",
       "      <th>ID</th>\n",
       "      <th>Key_Size</th>\n",
       "      <th>Protocol_Type</th>\n",
       "      <th>Key_Distribution</th>\n",
       "      <th>Enc_Latency</th>\n",
       "      <th>Dec_Latency</th>\n",
       "      <th>Throughput</th>\n",
       "      <th>Total_Latency</th>\n",
       "      <th>Packet_Loss</th>\n",
       "      <th>Bandwidth_Usage</th>\n",
       "      <th>...</th>\n",
       "      <th>Attack_Success_Exponential_Risk</th>\n",
       "      <th>Data_Volume_Quadratic_Load</th>\n",
       "      <th>Bandwidth_Saturation_Angle</th>\n",
       "      <th>Classification_Uncertainty_Score</th>\n",
       "      <th>Noise_Category</th>\n",
       "      <th>Temporal_Drift_Coefficient</th>\n",
       "      <th>Latency_Throughput_Efficiency</th>\n",
       "      <th>Resource_Load_Composite</th>\n",
       "      <th>Security_Exposure_Index</th>\n",
       "      <th>Key_Data_Complexity_Index</th>\n",
       "    </tr>\n",
       "  </thead>\n",
       "  <tbody>\n",
       "    <tr>\n",
       "      <th>0</th>\n",
       "      <td>1501</td>\n",
       "      <td>128</td>\n",
       "      <td>BB84</td>\n",
       "      <td>QKD</td>\n",
       "      <td>18.034727</td>\n",
       "      <td>118.796948</td>\n",
       "      <td>281.123682</td>\n",
       "      <td>36.201510</td>\n",
       "      <td>4.916400</td>\n",
       "      <td>56.940735</td>\n",
       "      <td>...</td>\n",
       "      <td>1.296539</td>\n",
       "      <td>267.078603</td>\n",
       "      <td>1.602154</td>\n",
       "      <td>3.037420</td>\n",
       "      <td>CAT_33</td>\n",
       "      <td>0.342342</td>\n",
       "      <td>5075.228792</td>\n",
       "      <td>114.748482</td>\n",
       "      <td>0.609428</td>\n",
       "      <td>100.624871</td>\n",
       "    </tr>\n",
       "    <tr>\n",
       "      <th>1</th>\n",
       "      <td>2586</td>\n",
       "      <td>512</td>\n",
       "      <td>SARG04</td>\n",
       "      <td>QKD</td>\n",
       "      <td>10.748379</td>\n",
       "      <td>19.586787</td>\n",
       "      <td>708.350530</td>\n",
       "      <td>36.393763</td>\n",
       "      <td>0.163566</td>\n",
       "      <td>62.239129</td>\n",
       "      <td>...</td>\n",
       "      <td>1.571285</td>\n",
       "      <td>16.456989</td>\n",
       "      <td>1.581016</td>\n",
       "      <td>1.048285</td>\n",
       "      <td>CAT_8</td>\n",
       "      <td>0.797798</td>\n",
       "      <td>2713.126587</td>\n",
       "      <td>98.976788</td>\n",
       "      <td>0.114477</td>\n",
       "      <td>541.286446</td>\n",
       "    </tr>\n",
       "    <tr>\n",
       "      <th>2</th>\n",
       "      <td>2653</td>\n",
       "      <td>1024</td>\n",
       "      <td>BB84</td>\n",
       "      <td>QKD</td>\n",
       "      <td>15.032799</td>\n",
       "      <td>36.450803</td>\n",
       "      <td>88.621594</td>\n",
       "      <td>32.507027</td>\n",
       "      <td>1.996298</td>\n",
       "      <td>52.718539</td>\n",
       "      <td>...</td>\n",
       "      <td>1.097629</td>\n",
       "      <td>526.534541</td>\n",
       "      <td>1.520617</td>\n",
       "      <td>3.852574</td>\n",
       "      <td>CAT_25</td>\n",
       "      <td>0.820821</td>\n",
       "      <td>8111.627384</td>\n",
       "      <td>138.862759</td>\n",
       "      <td>0.137567</td>\n",
       "      <td>720.246104</td>\n",
       "    </tr>\n",
       "  </tbody>\n",
       "</table>\n",
       "<p>3 rows × 46 columns</p>\n",
       "</div>"
      ],
      "text/plain": [
       "     ID  Key_Size Protocol_Type Key_Distribution  Enc_Latency  Dec_Latency  \\\n",
       "0  1501       128          BB84              QKD    18.034727   118.796948   \n",
       "1  2586       512        SARG04              QKD    10.748379    19.586787   \n",
       "2  2653      1024          BB84              QKD    15.032799    36.450803   \n",
       "\n",
       "   Throughput  Total_Latency  Packet_Loss  Bandwidth_Usage  ...  \\\n",
       "0  281.123682      36.201510     4.916400        56.940735  ...   \n",
       "1  708.350530      36.393763     0.163566        62.239129  ...   \n",
       "2   88.621594      32.507027     1.996298        52.718539  ...   \n",
       "\n",
       "   Attack_Success_Exponential_Risk Data_Volume_Quadratic_Load  \\\n",
       "0                         1.296539                 267.078603   \n",
       "1                         1.571285                  16.456989   \n",
       "2                         1.097629                 526.534541   \n",
       "\n",
       "  Bandwidth_Saturation_Angle Classification_Uncertainty_Score  Noise_Category  \\\n",
       "0                   1.602154                         3.037420          CAT_33   \n",
       "1                   1.581016                         1.048285           CAT_8   \n",
       "2                   1.520617                         3.852574          CAT_25   \n",
       "\n",
       "   Temporal_Drift_Coefficient  Latency_Throughput_Efficiency  \\\n",
       "0                    0.342342                    5075.228792   \n",
       "1                    0.797798                    2713.126587   \n",
       "2                    0.820821                    8111.627384   \n",
       "\n",
       "  Resource_Load_Composite  Security_Exposure_Index Key_Data_Complexity_Index  \n",
       "0              114.748482                 0.609428                100.624871  \n",
       "1               98.976788                 0.114477                541.286446  \n",
       "2              138.862759                 0.137567                720.246104  \n",
       "\n",
       "[3 rows x 46 columns]"
      ]
     },
     "execution_count": 5,
     "metadata": {},
     "output_type": "execute_result"
    }
   ],
   "source": [
    "test_df.head(3)"
   ]
  },
  {
   "cell_type": "code",
   "execution_count": 6,
   "id": "a0c1a33b",
   "metadata": {
    "execution": {
     "iopub.execute_input": "2025-06-29T17:01:45.158403Z",
     "iopub.status.busy": "2025-06-29T17:01:45.158077Z",
     "iopub.status.idle": "2025-06-29T17:01:45.168988Z",
     "shell.execute_reply": "2025-06-29T17:01:45.168170Z"
    },
    "papermill": {
     "duration": 0.017874,
     "end_time": "2025-06-29T17:01:45.170367",
     "exception": false,
     "start_time": "2025-06-29T17:01:45.152493",
     "status": "completed"
    },
    "tags": []
   },
   "outputs": [
    {
     "data": {
      "text/plain": [
       "ID                                     0\n",
       "Key_Size                               0\n",
       "Protocol_Type                          0\n",
       "Key_Distribution                       0\n",
       "Enc_Latency                            0\n",
       "Dec_Latency                            0\n",
       "Throughput                             0\n",
       "Total_Latency                          0\n",
       "Packet_Loss                            0\n",
       "Bandwidth_Usage                        0\n",
       "RTT                                    0\n",
       "Enc_Strength                           0\n",
       "Attack                               531\n",
       "Vulnerability                        659\n",
       "Attack_Success                         0\n",
       "IDS_Accuracy                           0\n",
       "Data_Volume                            0\n",
       "Data_Type_Variety                      0\n",
       "Data_Velocity                          0\n",
       "Complexity                             0\n",
       "Real_Time_Proc                         0\n",
       "CPU_Usage                              0\n",
       "Memory_Usage                           0\n",
       "Energy_Consumption                     0\n",
       "Optimization                        1542\n",
       "Performance_Target                     0\n",
       "Latency_Throughput_Ratio               0\n",
       "Security_Efficiency_Score              0\n",
       "Key_Size_Redundant                     0\n",
       "Quantum_Entropy_Deviation              0\n",
       "Photon_Count_Variability               0\n",
       "Environmental_Decoherence_Index        0\n",
       "Spectral_Noise_Floor                   0\n",
       "Hardware_Calibration_Residual          0\n",
       "Resource_Criticality_Index             0\n",
       "Enc_Latency_Phase_Modulation           0\n",
       "Throughput_Log_Scalability             0\n",
       "Attack_Success_Exponential_Risk        0\n",
       "Data_Volume_Quadratic_Load             0\n",
       "Bandwidth_Saturation_Angle             0\n",
       "Classification_Uncertainty_Score       0\n",
       "Noise_Category                        77\n",
       "Temporal_Drift_Coefficient             0\n",
       "Latency_Throughput_Efficiency          0\n",
       "Resource_Load_Composite                0\n",
       "Security_Exposure_Index                0\n",
       "Key_Data_Complexity_Index              0\n",
       "dtype: int64"
      ]
     },
     "execution_count": 6,
     "metadata": {},
     "output_type": "execute_result"
    }
   ],
   "source": [
    "df.isnull().sum()"
   ]
  },
  {
   "cell_type": "code",
   "execution_count": 7,
   "id": "7fe41a1c",
   "metadata": {
    "execution": {
     "iopub.execute_input": "2025-06-29T17:01:45.181565Z",
     "iopub.status.busy": "2025-06-29T17:01:45.181072Z",
     "iopub.status.idle": "2025-06-29T17:01:45.192577Z",
     "shell.execute_reply": "2025-06-29T17:01:45.191887Z"
    },
    "papermill": {
     "duration": 0.018557,
     "end_time": "2025-06-29T17:01:45.193896",
     "exception": false,
     "start_time": "2025-06-29T17:01:45.175339",
     "status": "completed"
    },
    "tags": []
   },
   "outputs": [
    {
     "data": {
      "text/plain": [
       "Performance_Target\n",
       "Critical Performance    48.742857\n",
       "Low Performance         34.142857\n",
       "Moderate Performance    12.428571\n",
       "High Performance         4.685714\n",
       "Name: count, dtype: float64"
      ]
     },
     "execution_count": 7,
     "metadata": {},
     "output_type": "execute_result"
    }
   ],
   "source": [
    "(df['Performance_Target'].value_counts()/df.shape[0])*100"
   ]
  },
  {
   "cell_type": "code",
   "execution_count": 8,
   "id": "226683cf",
   "metadata": {
    "execution": {
     "iopub.execute_input": "2025-06-29T17:01:45.205503Z",
     "iopub.status.busy": "2025-06-29T17:01:45.205139Z",
     "iopub.status.idle": "2025-06-29T17:01:45.210779Z",
     "shell.execute_reply": "2025-06-29T17:01:45.209905Z"
    },
    "papermill": {
     "duration": 0.013235,
     "end_time": "2025-06-29T17:01:45.212234",
     "exception": false,
     "start_time": "2025-06-29T17:01:45.198999",
     "status": "completed"
    },
    "tags": []
   },
   "outputs": [
    {
     "data": {
      "text/plain": [
       "(3500, 47)"
      ]
     },
     "execution_count": 8,
     "metadata": {},
     "output_type": "execute_result"
    }
   ],
   "source": [
    "df.shape"
   ]
  },
  {
   "cell_type": "code",
   "execution_count": 9,
   "id": "9e25efe6",
   "metadata": {
    "execution": {
     "iopub.execute_input": "2025-06-29T17:01:45.224812Z",
     "iopub.status.busy": "2025-06-29T17:01:45.224524Z",
     "iopub.status.idle": "2025-06-29T17:01:45.233942Z",
     "shell.execute_reply": "2025-06-29T17:01:45.233087Z"
    },
    "papermill": {
     "duration": 0.018114,
     "end_time": "2025-06-29T17:01:45.235426",
     "exception": false,
     "start_time": "2025-06-29T17:01:45.217312",
     "status": "completed"
    },
    "tags": []
   },
   "outputs": [
    {
     "data": {
      "text/plain": [
       "ID                                    0\n",
       "Key_Size                              0\n",
       "Protocol_Type                         0\n",
       "Key_Distribution                      0\n",
       "Enc_Latency                           0\n",
       "Dec_Latency                           0\n",
       "Throughput                            0\n",
       "Total_Latency                         0\n",
       "Packet_Loss                           0\n",
       "Bandwidth_Usage                       0\n",
       "RTT                                   0\n",
       "Enc_Strength                          0\n",
       "Attack                              218\n",
       "Vulnerability                       311\n",
       "Attack_Success                        0\n",
       "IDS_Accuracy                          0\n",
       "Data_Volume                           0\n",
       "Data_Type_Variety                     0\n",
       "Data_Velocity                         0\n",
       "Complexity                            0\n",
       "Real_Time_Proc                        0\n",
       "CPU_Usage                             0\n",
       "Memory_Usage                          0\n",
       "Energy_Consumption                    0\n",
       "Optimization                        676\n",
       "Latency_Throughput_Ratio              0\n",
       "Security_Efficiency_Score             0\n",
       "Key_Size_Redundant                    0\n",
       "Quantum_Entropy_Deviation             0\n",
       "Photon_Count_Variability              0\n",
       "Environmental_Decoherence_Index       0\n",
       "Spectral_Noise_Floor                  0\n",
       "Hardware_Calibration_Residual         0\n",
       "Resource_Criticality_Index            0\n",
       "Enc_Latency_Phase_Modulation          0\n",
       "Throughput_Log_Scalability            0\n",
       "Attack_Success_Exponential_Risk       0\n",
       "Data_Volume_Quadratic_Load            0\n",
       "Bandwidth_Saturation_Angle            0\n",
       "Classification_Uncertainty_Score      0\n",
       "Noise_Category                       28\n",
       "Temporal_Drift_Coefficient            0\n",
       "Latency_Throughput_Efficiency         0\n",
       "Resource_Load_Composite               0\n",
       "Security_Exposure_Index               0\n",
       "Key_Data_Complexity_Index             0\n",
       "dtype: int64"
      ]
     },
     "execution_count": 9,
     "metadata": {},
     "output_type": "execute_result"
    }
   ],
   "source": [
    "test_df.isnull().sum()"
   ]
  },
  {
   "cell_type": "code",
   "execution_count": 10,
   "id": "c5d487a7",
   "metadata": {
    "execution": {
     "iopub.execute_input": "2025-06-29T17:01:45.246896Z",
     "iopub.status.busy": "2025-06-29T17:01:45.246572Z",
     "iopub.status.idle": "2025-06-29T17:01:45.257574Z",
     "shell.execute_reply": "2025-06-29T17:01:45.256592Z"
    },
    "papermill": {
     "duration": 0.01854,
     "end_time": "2025-06-29T17:01:45.259248",
     "exception": false,
     "start_time": "2025-06-29T17:01:45.240708",
     "status": "completed"
    },
    "tags": []
   },
   "outputs": [
    {
     "name": "stderr",
     "output_type": "stream",
     "text": [
      "/tmp/ipykernel_13/2915460661.py:2: FutureWarning: A value is trying to be set on a copy of a DataFrame or Series through chained assignment using an inplace method.\n",
      "The behavior will change in pandas 3.0. This inplace method will never work because the intermediate object on which we are setting values always behaves as a copy.\n",
      "\n",
      "For example, when doing 'df[col].method(value, inplace=True)', try using 'df.method({col: value}, inplace=True)' or df[col] = df[col].method(value) instead, to perform the operation inplace on the original object.\n",
      "\n",
      "\n",
      "  df[col].fillna('Unknown', inplace=True)\n",
      "/tmp/ipykernel_13/2915460661.py:3: FutureWarning: A value is trying to be set on a copy of a DataFrame or Series through chained assignment using an inplace method.\n",
      "The behavior will change in pandas 3.0. This inplace method will never work because the intermediate object on which we are setting values always behaves as a copy.\n",
      "\n",
      "For example, when doing 'df[col].method(value, inplace=True)', try using 'df.method({col: value}, inplace=True)' or df[col] = df[col].method(value) instead, to perform the operation inplace on the original object.\n",
      "\n",
      "\n",
      "  test_df[col].fillna('Unknown', inplace=True)\n"
     ]
    }
   ],
   "source": [
    "for col in ['Attack', 'Vulnerability', 'Optimization', 'Noise_Category']:\n",
    "    df[col].fillna('Unknown', inplace=True)\n",
    "    test_df[col].fillna('Unknown', inplace=True)"
   ]
  },
  {
   "cell_type": "code",
   "execution_count": 11,
   "id": "1164a2a1",
   "metadata": {
    "execution": {
     "iopub.execute_input": "2025-06-29T17:01:45.271105Z",
     "iopub.status.busy": "2025-06-29T17:01:45.270794Z",
     "iopub.status.idle": "2025-06-29T17:01:45.281377Z",
     "shell.execute_reply": "2025-06-29T17:01:45.280499Z"
    },
    "papermill": {
     "duration": 0.018177,
     "end_time": "2025-06-29T17:01:45.282741",
     "exception": false,
     "start_time": "2025-06-29T17:01:45.264564",
     "status": "completed"
    },
    "tags": []
   },
   "outputs": [
    {
     "data": {
      "text/plain": [
       "ID                                  0\n",
       "Key_Size                            0\n",
       "Protocol_Type                       0\n",
       "Key_Distribution                    0\n",
       "Enc_Latency                         0\n",
       "Dec_Latency                         0\n",
       "Throughput                          0\n",
       "Total_Latency                       0\n",
       "Packet_Loss                         0\n",
       "Bandwidth_Usage                     0\n",
       "RTT                                 0\n",
       "Enc_Strength                        0\n",
       "Attack                              0\n",
       "Vulnerability                       0\n",
       "Attack_Success                      0\n",
       "IDS_Accuracy                        0\n",
       "Data_Volume                         0\n",
       "Data_Type_Variety                   0\n",
       "Data_Velocity                       0\n",
       "Complexity                          0\n",
       "Real_Time_Proc                      0\n",
       "CPU_Usage                           0\n",
       "Memory_Usage                        0\n",
       "Energy_Consumption                  0\n",
       "Optimization                        0\n",
       "Performance_Target                  0\n",
       "Latency_Throughput_Ratio            0\n",
       "Security_Efficiency_Score           0\n",
       "Key_Size_Redundant                  0\n",
       "Quantum_Entropy_Deviation           0\n",
       "Photon_Count_Variability            0\n",
       "Environmental_Decoherence_Index     0\n",
       "Spectral_Noise_Floor                0\n",
       "Hardware_Calibration_Residual       0\n",
       "Resource_Criticality_Index          0\n",
       "Enc_Latency_Phase_Modulation        0\n",
       "Throughput_Log_Scalability          0\n",
       "Attack_Success_Exponential_Risk     0\n",
       "Data_Volume_Quadratic_Load          0\n",
       "Bandwidth_Saturation_Angle          0\n",
       "Classification_Uncertainty_Score    0\n",
       "Noise_Category                      0\n",
       "Temporal_Drift_Coefficient          0\n",
       "Latency_Throughput_Efficiency       0\n",
       "Resource_Load_Composite             0\n",
       "Security_Exposure_Index             0\n",
       "Key_Data_Complexity_Index           0\n",
       "dtype: int64"
      ]
     },
     "execution_count": 11,
     "metadata": {},
     "output_type": "execute_result"
    }
   ],
   "source": [
    "df.isnull().sum()"
   ]
  },
  {
   "cell_type": "code",
   "execution_count": 12,
   "id": "b53e37f4",
   "metadata": {
    "execution": {
     "iopub.execute_input": "2025-06-29T17:01:45.295078Z",
     "iopub.status.busy": "2025-06-29T17:01:45.294558Z",
     "iopub.status.idle": "2025-06-29T17:01:46.796367Z",
     "shell.execute_reply": "2025-06-29T17:01:46.795459Z"
    },
    "papermill": {
     "duration": 1.509744,
     "end_time": "2025-06-29T17:01:46.797974",
     "exception": false,
     "start_time": "2025-06-29T17:01:45.288230",
     "status": "completed"
    },
    "tags": []
   },
   "outputs": [],
   "source": [
    "label_encode_cols = ['Protocol_Type', 'Key_Distribution', 'Enc_Strength', 'Attack', 'Noise_Category']\n",
    "one_hot_cols = ['Data_Type_Variety', 'Complexity', 'Optimization']\n",
    "from sklearn.preprocessing import LabelEncoder\n",
    "\n",
    "encoders = {}\n",
    "for col in label_encode_cols:\n",
    "    le = LabelEncoder()\n",
    "    df[col] = le.fit_transform(df[col].astype(str))\n",
    "    test_df[col] = le.transform(test_df[col].astype(str))\n",
    "    encoders[col] = le\n",
    "\n",
    "vul_map = {'Low': 0, 'Medium': 1, 'High': 2, 'Unknown': -1}\n",
    "df['Vulnerability'] = df['Vulnerability'].map(vul_map)\n",
    "test_df['Vulnerability'] = test_df['Vulnerability'].map(vul_map)"
   ]
  },
  {
   "cell_type": "code",
   "execution_count": 13,
   "id": "f65a83df",
   "metadata": {
    "execution": {
     "iopub.execute_input": "2025-06-29T17:01:46.811021Z",
     "iopub.status.busy": "2025-06-29T17:01:46.810583Z",
     "iopub.status.idle": "2025-06-29T17:01:46.836431Z",
     "shell.execute_reply": "2025-06-29T17:01:46.835480Z"
    },
    "papermill": {
     "duration": 0.034426,
     "end_time": "2025-06-29T17:01:46.838066",
     "exception": false,
     "start_time": "2025-06-29T17:01:46.803640",
     "status": "completed"
    },
    "tags": []
   },
   "outputs": [],
   "source": [
    "full_df = pd.concat([df, test_df], axis=0)\n",
    "full_df = pd.get_dummies(full_df, columns=one_hot_cols)\n",
    "df = full_df.iloc[:len(df)]\n",
    "test_df = full_df.iloc[len(df):]"
   ]
  },
  {
   "cell_type": "code",
   "execution_count": 14,
   "id": "dbaa38fb",
   "metadata": {
    "execution": {
     "iopub.execute_input": "2025-06-29T17:01:46.850386Z",
     "iopub.status.busy": "2025-06-29T17:01:46.849761Z",
     "iopub.status.idle": "2025-06-29T17:01:46.872398Z",
     "shell.execute_reply": "2025-06-29T17:01:46.871300Z"
    },
    "papermill": {
     "duration": 0.030509,
     "end_time": "2025-06-29T17:01:46.873986",
     "exception": false,
     "start_time": "2025-06-29T17:01:46.843477",
     "status": "completed"
    },
    "tags": []
   },
   "outputs": [
    {
     "name": "stderr",
     "output_type": "stream",
     "text": [
      "/tmp/ipykernel_13/806617270.py:2: SettingWithCopyWarning: \n",
      "A value is trying to be set on a copy of a slice from a DataFrame.\n",
      "Try using .loc[row_indexer,col_indexer] = value instead\n",
      "\n",
      "See the caveats in the documentation: https://pandas.pydata.org/pandas-docs/stable/user_guide/indexing.html#returning-a-view-versus-a-copy\n",
      "  df['Effective_Throughput'] = df['Throughput'] * (1 - df['Packet_Loss'] / 100)\n",
      "/tmp/ipykernel_13/806617270.py:3: SettingWithCopyWarning: \n",
      "A value is trying to be set on a copy of a slice from a DataFrame.\n",
      "Try using .loc[row_indexer,col_indexer] = value instead\n",
      "\n",
      "See the caveats in the documentation: https://pandas.pydata.org/pandas-docs/stable/user_guide/indexing.html#returning-a-view-versus-a-copy\n",
      "  test_df['Effective_Throughput'] = test_df['Throughput'] * (1 - test_df['Packet_Loss'] / 100)\n",
      "/tmp/ipykernel_13/806617270.py:6: SettingWithCopyWarning: \n",
      "A value is trying to be set on a copy of a slice from a DataFrame.\n",
      "Try using .loc[row_indexer,col_indexer] = value instead\n",
      "\n",
      "See the caveats in the documentation: https://pandas.pydata.org/pandas-docs/stable/user_guide/indexing.html#returning-a-view-versus-a-copy\n",
      "  df['Latency_Per_GB'] = df['Total_Latency'] / (df['Data_Volume'] + 1e-3)\n",
      "/tmp/ipykernel_13/806617270.py:7: SettingWithCopyWarning: \n",
      "A value is trying to be set on a copy of a slice from a DataFrame.\n",
      "Try using .loc[row_indexer,col_indexer] = value instead\n",
      "\n",
      "See the caveats in the documentation: https://pandas.pydata.org/pandas-docs/stable/user_guide/indexing.html#returning-a-view-versus-a-copy\n",
      "  test_df['Latency_Per_GB'] = test_df['Total_Latency'] / (test_df['Data_Volume'] + 1e-3)\n",
      "/tmp/ipykernel_13/806617270.py:10: SettingWithCopyWarning: \n",
      "A value is trying to be set on a copy of a slice from a DataFrame.\n",
      "Try using .loc[row_indexer,col_indexer] = value instead\n",
      "\n",
      "See the caveats in the documentation: https://pandas.pydata.org/pandas-docs/stable/user_guide/indexing.html#returning-a-view-versus-a-copy\n",
      "  df['Resource_Efficiency'] = df['Throughput'] / (\n",
      "/tmp/ipykernel_13/806617270.py:13: SettingWithCopyWarning: \n",
      "A value is trying to be set on a copy of a slice from a DataFrame.\n",
      "Try using .loc[row_indexer,col_indexer] = value instead\n",
      "\n",
      "See the caveats in the documentation: https://pandas.pydata.org/pandas-docs/stable/user_guide/indexing.html#returning-a-view-versus-a-copy\n",
      "  test_df['Resource_Efficiency'] = test_df['Throughput'] / (\n",
      "/tmp/ipykernel_13/806617270.py:18: SettingWithCopyWarning: \n",
      "A value is trying to be set on a copy of a slice from a DataFrame.\n",
      "Try using .loc[row_indexer,col_indexer] = value instead\n",
      "\n",
      "See the caveats in the documentation: https://pandas.pydata.org/pandas-docs/stable/user_guide/indexing.html#returning-a-view-versus-a-copy\n",
      "  df['Photon_Reliability_Score'] = 1 / (\n",
      "/tmp/ipykernel_13/806617270.py:21: SettingWithCopyWarning: \n",
      "A value is trying to be set on a copy of a slice from a DataFrame.\n",
      "Try using .loc[row_indexer,col_indexer] = value instead\n",
      "\n",
      "See the caveats in the documentation: https://pandas.pydata.org/pandas-docs/stable/user_guide/indexing.html#returning-a-view-versus-a-copy\n",
      "  test_df['Photon_Reliability_Score'] = 1 / (\n",
      "/tmp/ipykernel_13/806617270.py:26: SettingWithCopyWarning: \n",
      "A value is trying to be set on a copy of a slice from a DataFrame.\n",
      "Try using .loc[row_indexer,col_indexer] = value instead\n",
      "\n",
      "See the caveats in the documentation: https://pandas.pydata.org/pandas-docs/stable/user_guide/indexing.html#returning-a-view-versus-a-copy\n",
      "  df['Attack_Resilience'] = (1 - df['Attack_Success'] / 100) * (df['IDS_Accuracy'] / 100)\n",
      "/tmp/ipykernel_13/806617270.py:27: SettingWithCopyWarning: \n",
      "A value is trying to be set on a copy of a slice from a DataFrame.\n",
      "Try using .loc[row_indexer,col_indexer] = value instead\n",
      "\n",
      "See the caveats in the documentation: https://pandas.pydata.org/pandas-docs/stable/user_guide/indexing.html#returning-a-view-versus-a-copy\n",
      "  test_df['Attack_Resilience'] = (1 - test_df['Attack_Success'] / 100) * (test_df['IDS_Accuracy'] / 100)\n",
      "/tmp/ipykernel_13/806617270.py:30: SettingWithCopyWarning: \n",
      "A value is trying to be set on a copy of a slice from a DataFrame.\n",
      "Try using .loc[row_indexer,col_indexer] = value instead\n",
      "\n",
      "See the caveats in the documentation: https://pandas.pydata.org/pandas-docs/stable/user_guide/indexing.html#returning-a-view-versus-a-copy\n",
      "  df['RealTime_Penalty'] = df['Real_Time_Proc'] * df['Total_Latency']\n",
      "/tmp/ipykernel_13/806617270.py:31: SettingWithCopyWarning: \n",
      "A value is trying to be set on a copy of a slice from a DataFrame.\n",
      "Try using .loc[row_indexer,col_indexer] = value instead\n",
      "\n",
      "See the caveats in the documentation: https://pandas.pydata.org/pandas-docs/stable/user_guide/indexing.html#returning-a-view-versus-a-copy\n",
      "  test_df['RealTime_Penalty'] = test_df['Real_Time_Proc'] * test_df['Total_Latency']\n",
      "/tmp/ipykernel_13/806617270.py:34: SettingWithCopyWarning: \n",
      "A value is trying to be set on a copy of a slice from a DataFrame.\n",
      "Try using .loc[row_indexer,col_indexer] = value instead\n",
      "\n",
      "See the caveats in the documentation: https://pandas.pydata.org/pandas-docs/stable/user_guide/indexing.html#returning-a-view-versus-a-copy\n",
      "  df['Security_Efficiency'] = df['IDS_Accuracy'] / (1 + df['Security_Exposure_Index'])\n",
      "/tmp/ipykernel_13/806617270.py:35: SettingWithCopyWarning: \n",
      "A value is trying to be set on a copy of a slice from a DataFrame.\n",
      "Try using .loc[row_indexer,col_indexer] = value instead\n",
      "\n",
      "See the caveats in the documentation: https://pandas.pydata.org/pandas-docs/stable/user_guide/indexing.html#returning-a-view-versus-a-copy\n",
      "  test_df['Security_Efficiency'] = test_df['IDS_Accuracy'] / (1 + test_df['Security_Exposure_Index'])\n"
     ]
    }
   ],
   "source": [
    "df['Effective_Throughput'] = df['Throughput'] * (1 - df['Packet_Loss'] / 100)\n",
    "test_df['Effective_Throughput'] = test_df['Throughput'] * (1 - test_df['Packet_Loss'] / 100)\n",
    "\n",
    "df['Latency_Per_GB'] = df['Total_Latency'] / (df['Data_Volume'] + 1e-3)\n",
    "test_df['Latency_Per_GB'] = test_df['Total_Latency'] / (test_df['Data_Volume'] + 1e-3)\n",
    "\n",
    "df['Resource_Efficiency'] = df['Throughput'] / (df['CPU_Usage'] + df['Memory_Usage'] + df['Energy_Consumption'] + 1e-3)\n",
    "test_df['Resource_Efficiency'] = test_df['Throughput'] / (\n",
    "    test_df['CPU_Usage'] + test_df['Memory_Usage'] + test_df['Energy_Consumption'] + 1e-3)\n",
    "\n",
    "df['Photon_Reliability_Score'] = 1 / (1 + df['Photon_Count_Variability'] + df['Quantum_Entropy_Deviation'])\n",
    "test_df['Photon_Reliability_Score'] = 1 / (1 + test_df['Photon_Count_Variability'] + test_df['Quantum_Entropy_Deviation'])\n",
    "\n",
    "df['Attack_Resilience'] = (1 - df['Attack_Success'] / 100) * (df['IDS_Accuracy'] / 100)\n",
    "test_df['Attack_Resilience'] = (1 - test_df['Attack_Success'] / 100) * (test_df['IDS_Accuracy'] / 100)\n",
    "\n",
    "df['RealTime_Penalty'] = df['Real_Time_Proc'] * df['Total_Latency']\n",
    "test_df['RealTime_Penalty'] = test_df['Real_Time_Proc'] * test_df['Total_Latency']\n",
    "\n",
    "df['Security_Efficiency'] = df['IDS_Accuracy'] / (1 + df['Security_Exposure_Index'])\n",
    "test_df['Security_Efficiency'] = test_df['IDS_Accuracy'] / (1 + test_df['Security_Exposure_Index'])"
   ]
  },
  {
   "cell_type": "code",
   "execution_count": 15,
   "id": "df647e30",
   "metadata": {
    "execution": {
     "iopub.execute_input": "2025-06-29T17:01:46.886798Z",
     "iopub.status.busy": "2025-06-29T17:01:46.886482Z",
     "iopub.status.idle": "2025-06-29T17:01:46.897629Z",
     "shell.execute_reply": "2025-06-29T17:01:46.896517Z"
    },
    "papermill": {
     "duration": 0.019195,
     "end_time": "2025-06-29T17:01:46.899003",
     "exception": false,
     "start_time": "2025-06-29T17:01:46.879808",
     "status": "completed"
    },
    "tags": []
   },
   "outputs": [
    {
     "name": "stderr",
     "output_type": "stream",
     "text": [
      "/tmp/ipykernel_13/3161578954.py:7: SettingWithCopyWarning: \n",
      "A value is trying to be set on a copy of a slice from a DataFrame.\n",
      "Try using .loc[row_indexer,col_indexer] = value instead\n",
      "\n",
      "See the caveats in the documentation: https://pandas.pydata.org/pandas-docs/stable/user_guide/indexing.html#returning-a-view-versus-a-copy\n",
      "  df['Performance_Target_Num'] = df['Performance_Target'].map(target_map)\n"
     ]
    }
   ],
   "source": [
    "tm = {\n",
    "    'High Performance': 3,\n",
    "    'Moderate Performance': 2,\n",
    "    'Low Performance': 1,\n",
    "    'Critical Performance': 0\n",
    "}\n",
    "df['Performance_Target_Num'] = df['Performance_Target'].map(tm)\n",
    "\n",
    "X_train = df.drop(columns=['ID', 'Performance_Target', 'Performanceidx'])\n",
    "y_train = df['Performanceidx']\n",
    "X_test = test_df.drop(columns=['ID', 'Performance_Target'], errors='ignore')"
   ]
  },
  {
   "cell_type": "code",
   "execution_count": 16,
   "id": "3d02dc92",
   "metadata": {
    "execution": {
     "iopub.execute_input": "2025-06-29T17:01:46.911710Z",
     "iopub.status.busy": "2025-06-29T17:01:46.911420Z",
     "iopub.status.idle": "2025-06-29T17:01:48.968656Z",
     "shell.execute_reply": "2025-06-29T17:01:48.967681Z"
    },
    "papermill": {
     "duration": 2.065593,
     "end_time": "2025-06-29T17:01:48.970358",
     "exception": false,
     "start_time": "2025-06-29T17:01:46.904765",
     "status": "completed"
    },
    "tags": []
   },
   "outputs": [],
   "source": [
    "from sklearn.ensemble import RandomForestClassifier\n",
    "from sklearn.utils.class_weight import compute_class_weight\n",
    "classes = np.unique(y_train)\n",
    "weights = compute_class_weight(class_weight='balanced', classes=classes, y=y_train)\n",
    "class_weight_dict = dict(zip(classes, weights))\n",
    "\n",
    "model = RandomForestClassifier(n_estimators=200,max_depth=12,class_weight=class_weight_dict,random_state=42,n_jobs=-1)\n",
    "model.fit(X_train, y_train)\n",
    "test_preds = model.predict(X_test)\n",
    "\n",
    "reverse_target_map = {v: k for k, v in target_map.items()}\n",
    "test_pred_l = [reverse_target_map[p] for p in test_preds]\n",
    "\n",
    "submission = pd.DataFrame({'ID': test_df['ID'],'Performance_Target': test_pred_l})\n",
    "submission.to_csv(\"submission4.csv\", index=False)"
   ]
  }
 ],
 "metadata": {
  "kaggle": {
   "accelerator": "none",
   "dataSources": [
    {
     "databundleVersionId": 12870970,
     "sourceId": 106392,
     "sourceType": "competition"
    }
   ],
   "dockerImageVersionId": 31040,
   "isGpuEnabled": false,
   "isInternetEnabled": true,
   "language": "python",
   "sourceType": "notebook"
  },
  "kernelspec": {
   "display_name": "Python 3",
   "language": "python",
   "name": "python3"
  },
  "language_info": {
   "codemirror_mode": {
    "name": "ipython",
    "version": 3
   },
   "file_extension": ".py",
   "mimetype": "text/x-python",
   "name": "python",
   "nbconvert_exporter": "python",
   "pygments_lexer": "ipython3",
   "version": "3.11.11"
  },
  "papermill": {
   "default_parameters": {},
   "duration": 136.704311,
   "end_time": "2025-06-29T17:03:54.977179",
   "environment_variables": {},
   "exception": null,
   "input_path": "__notebook__.ipynb",
   "output_path": "__notebook__.ipynb",
   "parameters": {},
   "start_time": "2025-06-29T17:01:38.272868",
   "version": "2.6.0"
  }
 },
 "nbformat": 4,
 "nbformat_minor": 5
}
